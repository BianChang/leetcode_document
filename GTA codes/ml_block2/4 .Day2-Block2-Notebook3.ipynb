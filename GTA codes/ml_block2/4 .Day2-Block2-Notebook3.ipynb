{
 "cells": [
  {
   "cell_type": "markdown",
   "id": "bfef3a9a",
   "metadata": {},
   "source": [
    "## Decision Tree model training\n",
    "This notebook trains a decision tree on one of the in-built datasets that comes with the SKLearn library. This is the 'digits' data set, which is simplified version of the famous MNIST dataset. This dataset contains images of handwritten numbers 0-9. You are given the grayscale colour of each picture in the image, and the goal is to predict the number."
   ]
  },
  {
   "cell_type": "code",
   "execution_count": 23,
   "id": "2b0a63bb",
   "metadata": {},
   "outputs": [],
   "source": [
    "import matplotlib.pyplot as plt\n",
    "\n",
    "# Import datasets, classifiers and performance metrics\n",
    "from sklearn import datasets, svm, metrics\n",
    "from sklearn.model_selection import train_test_split, cross_val_score"
   ]
  },
  {
   "cell_type": "code",
   "execution_count": 24,
   "id": "cbfee3a7",
   "metadata": {},
   "outputs": [],
   "source": [
    "digits = datasets.load_digits() #load the digits dataset\n",
    "X = digits.data #these are the raw pixel values\n",
    "y = digits.target #these are the labels"
   ]
  },
  {
   "cell_type": "markdown",
   "id": "66d668fb",
   "metadata": {},
   "source": [
    "Plot the first example in the dataset. Note that we are using the *digits.images* object, which contains the 2D version of the data. *digits.data* contains the same data, but it has been flattened into a 1D array."
   ]
  },
  {
   "cell_type": "code",
   "execution_count": 25,
   "id": "81121836",
   "metadata": {},
   "outputs": [
    {
     "data": {
      "text/plain": [
       "<Figure size 640x480 with 0 Axes>"
      ]
     },
     "metadata": {},
     "output_type": "display_data"
    },
    {
     "data": {
      "image/png": "[encoded data removed]",
      "text/plain": [
       "<Figure size 480x480 with 1 Axes>"
      ]
     },
     "metadata": {},
     "output_type": "display_data"
    }
   ],
   "source": [
    "plt.gray()\n",
    "plt.matshow(digits.images[0]) \n",
    "plt.show()"
   ]
  },
  {
   "cell_type": "markdown",
   "id": "15664d84",
   "metadata": {},
   "source": [
    "We'll now train a random forest classifier using 5-fold cross validation. The *cross_val_score* does this for us automatically, and outputs the accuracy"
   ]
  },
  {
   "cell_type": "code",
   "execution_count": 26,
   "id": "483afa04",
   "metadata": {},
   "outputs": [
    {
     "name": "stdout",
     "output_type": "stream",
     "text": [
      "[0.78055556 0.69722222 0.79665738 0.84401114 0.7994429 ]\n"
     ]
    }
   ],
   "source": [
    "from sklearn.tree import DecisionTreeClassifier\n",
    "model = DecisionTreeClassifier()\n",
    "scores = cross_val_score(model, X, y, cv=5)\n",
    "print(scores)"
   ]
  },
  {
   "cell_type": "markdown",
   "id": "ecfbbfff",
   "metadata": {},
   "source": [
    "The default scorer in *cross_val_score* calculates the accuracy, but we can change that as follows to give sensitivity (for example) for a specific class"
   ]
  },
  {
   "cell_type": "code",
   "execution_count": 27,
   "id": "443d16df",
   "metadata": {},
   "outputs": [],
   "source": [
    "from sklearn.metrics import recall_score\n",
    "from sklearn.metrics import make_scorer"
   ]
  },
  {
   "cell_type": "code",
   "execution_count": 28,
   "id": "e0a46166",
   "metadata": {},
   "outputs": [],
   "source": [
    "sensitivity = make_scorer(recall_score, pos_label=1, average='macro') #sensitivity is equivalent to recall"
   ]
  },
  {
   "cell_type": "code",
   "execution_count": 29,
   "id": "2de60eb1",
   "metadata": {},
   "outputs": [],
   "source": [
    "scores = cross_val_score(model, X, y, cv=5, scoring=sensitivity)"
   ]
  },
  {
   "cell_type": "code",
   "execution_count": 30,
   "id": "2f21bae1",
   "metadata": {},
   "outputs": [
    {
     "data": {
      "text/plain": [
       "array([0.79493994, 0.71722866, 0.78997615, 0.83771343, 0.80315101])"
      ]
     },
     "execution_count": 30,
     "metadata": {},
     "output_type": "execute_result"
    }
   ],
   "source": [
    "scores"
   ]
  },
  {
   "cell_type": "markdown",
   "id": "435385a0",
   "metadata": {},
   "source": [
    "## ROC Analysis\n",
    "We will now go through an example of ROC analysis. In the lab exercises, the outcomes are binary ({died, recovered}). The following shows how you can extended ROC analysis for a multiclass problem, as you will need to do in your assignment.\n",
    "\n",
    "Here, we will consider how well a logistic regression classifier performs at predicting the number '0' on the digits dataset. To do this, we will convert the multiclass problem into a binary problem. We will do this in a rather simplistic way, by relabelling any number that is not '0' as '1'.\n",
    "\n",
    "For simplicity, we will use a train/test split instead of cross validation"
   ]
  },
  {
   "cell_type": "code",
   "execution_count": 31,
   "id": "0b4cba42",
   "metadata": {},
   "outputs": [
    {
     "data": {
      "text/html": [
       "<style>#sk-container-id-3 {color: black;background-color: white;}#sk-container-id-3 pre{padding: 0;}#sk-container-id-3 div.sk-toggleable {background-color: white;}#sk-container-id-3 label.sk-toggleable__label {cursor: pointer;display: block;width: 100%;margin-bottom: 0;padding: 0.3em;box-sizing: border-box;text-align: center;}#sk-container-id-3 label.sk-toggleable__label-arrow:before {content: \"▸\";float: left;margin-right: 0.25em;color: #696969;}#sk-container-id-3 label.sk-toggleable__label-arrow:hover:before {color: black;}#sk-container-id-3 div.sk-estimator:hover label.sk-toggleable__label-arrow:before {color: black;}#sk-container-id-3 div.sk-toggleable__content {max-height: 0;max-width: 0;overflow: hidden;text-align: left;background-color: #f0f8ff;}#sk-container-id-3 div.sk-toggleable__content pre {margin: 0.2em;color: black;border-radius: 0.25em;background-color: #f0f8ff;}#sk-container-id-3 input.sk-toggleable__control:checked~div.sk-toggleable__content {max-height: 200px;max-width: 100%;overflow: auto;}#sk-container-id-3 input.sk-toggleable__control:checked~label.sk-toggleable__label-arrow:before {content: \"▾\";}#sk-container-id-3 div.sk-estimator input.sk-toggleable__control:checked~label.sk-toggleable__label {background-color: #d4ebff;}#sk-container-id-3 div.sk-label input.sk-toggleable__control:checked~label.sk-toggleable__label {background-color: #d4ebff;}#sk-container-id-3 input.sk-hidden--visually {border: 0;clip: rect(1px 1px 1px 1px);clip: rect(1px, 1px, 1px, 1px);height: 1px;margin: -1px;overflow: hidden;padding: 0;position: absolute;width: 1px;}#sk-container-id-3 div.sk-estimator {font-family: monospace;background-color: #f0f8ff;border: 1px dotted black;border-radius: 0.25em;box-sizing: border-box;margin-bottom: 0.5em;}#sk-container-id-3 div.sk-estimator:hover {background-color: #d4ebff;}#sk-container-id-3 div.sk-parallel-item::after {content: \"\";width: 100%;border-bottom: 1px solid gray;flex-grow: 1;}#sk-container-id-3 div.sk-label:hover label.sk-toggleable__label {background-color: #d4ebff;}#sk-container-id-3 div.sk-serial::before {content: \"\";position: absolute;border-left: 1px solid gray;box-sizing: border-box;top: 0;bottom: 0;left: 50%;z-index: 0;}#sk-container-id-3 div.sk-serial {display: flex;flex-direction: column;align-items: center;background-color: white;padding-right: 0.2em;padding-left: 0.2em;position: relative;}#sk-container-id-3 div.sk-item {position: relative;z-index: 1;}#sk-container-id-3 div.sk-parallel {display: flex;align-items: stretch;justify-content: center;background-color: white;position: relative;}#sk-container-id-3 div.sk-item::before, #sk-container-id-3 div.sk-parallel-item::before {content: \"\";position: absolute;border-left: 1px solid gray;box-sizing: border-box;top: 0;bottom: 0;left: 50%;z-index: -1;}#sk-container-id-3 div.sk-parallel-item {display: flex;flex-direction: column;z-index: 1;position: relative;background-color: white;}#sk-container-id-3 div.sk-parallel-item:first-child::after {align-self: flex-end;width: 50%;}#sk-container-id-3 div.sk-parallel-item:last-child::after {align-self: flex-start;width: 50%;}#sk-container-id-3 div.sk-parallel-item:only-child::after {width: 0;}#sk-container-id-3 div.sk-dashed-wrapped {border: 1px dashed gray;margin: 0 0.4em 0.5em 0.4em;box-sizing: border-box;padding-bottom: 0.4em;background-color: white;}#sk-container-id-3 div.sk-label label {font-family: monospace;font-weight: bold;display: inline-block;line-height: 1.2em;}#sk-container-id-3 div.sk-label-container {text-align: center;}#sk-container-id-3 div.sk-container {/* jupyter's `normalize.less` sets `[hidden] { display: none; }` but bootstrap.min.css set `[hidden] { display: none !important; }` so we also need the `!important` here to be able to override the default hidden behavior on the sphinx rendered scikit-learn.org. See: https://github.com/scikit-learn/scikit-learn/issues/21755 */display: inline-block !important;position: relative;}#sk-container-id-3 div.sk-text-repr-fallback {display: none;}</style><div id=\"sk-container-id-3\" class=\"sk-top-container\"><div class=\"sk-text-repr-fallback\"><pre>LogisticRegression(max_iter=10000)</pre><b>In a Jupyter environment, please rerun this cell to show the HTML representation or trust the notebook. <br />On GitHub, the HTML representation is unable to render, please try loading this page with nbviewer.org.</b></div><div class=\"sk-container\" hidden><div class=\"sk-item\"><div class=\"sk-estimator sk-toggleable\"><input class=\"sk-toggleable__control sk-hidden--visually\" id=\"sk-estimator-id-3\" type=\"checkbox\" checked><label for=\"sk-estimator-id-3\" class=\"sk-toggleable__label sk-toggleable__label-arrow\">LogisticRegression</label><div class=\"sk-toggleable__content\"><pre>LogisticRegression(max_iter=10000)</pre></div></div></div></div></div>"
      ],
      "text/plain": [
       "LogisticRegression(max_iter=10000)"
      ]
     },
     "execution_count": 31,
     "metadata": {},
     "output_type": "execute_result"
    }
   ],
   "source": [
    "# change all of the labels that are NOT 0 to 1\n",
    "y[y!=0] = 1\n",
    "\n",
    "# Split data into 50% train and 50% test subsets\n",
    "X_train, X_test, y_train, y_test = train_test_split(X, y, test_size=0.5, shuffle=False)\n",
    "\n",
    "from sklearn.linear_model import LogisticRegression\n",
    "logreg = LogisticRegression(max_iter=10000)\n",
    "logreg.fit(X_train, y_train)"
   ]
  },
  {
   "cell_type": "markdown",
   "id": "59f3bfc4",
   "metadata": {},
   "source": [
    "Having trained the model, we now make some predictions on the test set. Note that yesterday we used the *predict* function, which output the predicted class. Now, we are using *predict_proba* which gives the output probability of the logistic regression. It returns two columns, the probability of class 0 and class 1 respectively."
   ]
  },
  {
   "cell_type": "code",
   "execution_count": 32,
   "id": "20a515ad",
   "metadata": {},
   "outputs": [
    {
     "name": "stdout",
     "output_type": "stream",
     "text": [
      "[[4.68557171e-09 9.99999995e-01]\n",
      " [2.99384744e-06 9.99997006e-01]\n",
      " [1.27561342e-04 9.99872439e-01]\n",
      " ...\n",
      " [2.54703325e-09 9.99999997e-01]\n",
      " [7.88345829e-04 9.99211654e-01]\n",
      " [6.57262089e-09 9.99999993e-01]]\n"
     ]
    }
   ],
   "source": [
    "y_pred = logreg.predict_proba(X_test)\n",
    "print(y_pred)"
   ]
  },
  {
   "cell_type": "code",
   "execution_count": 33,
   "id": "5271d5dc",
   "metadata": {},
   "outputs": [],
   "source": [
    "fpr, tpr, thresholds = metrics.roc_curve(y_test, y_pred[:,0], pos_label=0)"
   ]
  },
  {
   "cell_type": "code",
   "execution_count": 34,
   "id": "3f187ce6",
   "metadata": {},
   "outputs": [
    {
     "data": {
      "image/png": "[encoded data removed]",
      "text/plain": [
       "<Figure size 640x480 with 1 Axes>"
      ]
     },
     "metadata": {},
     "output_type": "display_data"
    }
   ],
   "source": [
    "roc_auc = metrics.auc(fpr, tpr)\n",
    "display = metrics.RocCurveDisplay(fpr=fpr, tpr=tpr, roc_auc=roc_auc, estimator_name='Logistic Regression - Class 0')\n",
    "display.plot()\n",
    "plt.show()"
   ]
  },
  {
   "cell_type": "markdown",
   "id": "a502c00b",
   "metadata": {},
   "source": [
    "## addendum\n",
    "You may have noticed that in this example, we did not scale the data (despite my encouragement for you to do so as a matter of habit). The reason for this is just to try to reduce the amount of new programming you need to learn. Applying the scaling function inside cross-validation adds an additional set of functions to learn, as one needs to scale within each of the folds. For more information on how to do this, see https://stackoverflow.com/questions/44446501/how-to-standardize-data-with-sklearns-cross-val-score"
   ]
  },
  {
   "cell_type": "code",
   "execution_count": null,
   "id": "5013e00e",
   "metadata": {},
   "outputs": [],
   "source": [
    "#2.2\n",
    "\n"
   ]
  }
 ],
 "metadata": {
  "kernelspec": {
   "display_name": "Python 3 (ipykernel)",
   "language": "python",
   "name": "python3"
  },
  "language_info": {
   "codemirror_mode": {
    "name": "ipython",
    "version": 3
   },
   "file_extension": ".py",
   "mimetype": "text/x-python",
   "name": "python",
   "nbconvert_exporter": "python",
   "pygments_lexer": "ipython3",
   "version": "3.10.9"
  }
 },
 "nbformat": 4,
 "nbformat_minor": 5
}
