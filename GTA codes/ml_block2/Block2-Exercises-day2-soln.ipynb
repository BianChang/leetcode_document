{
 "cells": [
  {
   "cell_type": "markdown",
   "id": "117ee579",
   "metadata": {},
   "source": [
    "# Supervised Learning Lab Day 2\n",
    "\n",
    "Adapt the code from the 'Day2-Block2-Notebook3' notebook to train a decision tree and a random forest classifier on the breast cancer data set from yesterday.\n",
    "\n",
    "As well as training additional models, today you will invetigate the impact of changing model hyperparameters and how to perform ROC analysis using SKlearn\n",
    "\n",
    "**Tasks (add your answers below each question):**\n",
    "\n",
    "2.1 Using a 5-fold cross validation, train a decision tree and random forest classifier and report the model accuracy and sensitivity (see Notebook 3 for additional hints on how to do this)\n",
    "\n",
    "2.2 How does the performance of these models compare to the Perceptron and Logistic regression? Is this what you would expect?\n",
    "\n",
    "2.3 For the random forest model, try changing the n_estimators and max_features, one at a time. By training the model multiple times (using a FOR loop), plot the accuracy as you change these parameters.\n",
    "\n",
    "2.4 If you have not already done so, complete 2.4 from yesterday "
   ]
  },
  {
   "cell_type": "code",
   "execution_count": 1,
   "id": "82d26ba8",
   "metadata": {},
   "outputs": [],
   "source": [
    "# Data import for exercises\n",
    "import matplotlib.pyplot as plt\n",
    "import numpy as np\n",
    "import pandas as pd\n",
    "\n",
    "data = pd.read_csv('breast-cancer-wisconsin.csv', header = None, na_values='?')\n",
    "y = data.iloc[:,10]\n",
    "X = data.iloc[:,1:10]"
   ]
  },
  {
   "cell_type": "code",
   "execution_count": 2,
   "id": "5056f2df-43e4-44dc-a824-a5dd6bd0ba3b",
   "metadata": {},
   "outputs": [
    {
     "data": {
      "text/plain": [
       "<bound method Series.unique of 0      2\n",
       "1      2\n",
       "2      2\n",
       "3      2\n",
       "4      2\n",
       "      ..\n",
       "694    2\n",
       "695    2\n",
       "696    4\n",
       "697    4\n",
       "698    4\n",
       "Name: 10, Length: 699, dtype: int64>"
      ]
     },
     "execution_count": 2,
     "metadata": {},
     "output_type": "execute_result"
    }
   ],
   "source": [
    "y.unique"
   ]
  },
  {
   "cell_type": "code",
   "execution_count": 3,
   "id": "462ca3cc",
   "metadata": {},
   "outputs": [],
   "source": [
    "# Models that will be used in this exercise\n",
    "from sklearn.tree import DecisionTreeClassifier\n",
    "from sklearn.ensemble import RandomForestClassifier\n"
   ]
  },
  {
   "cell_type": "code",
   "execution_count": 4,
   "id": "8e6586d0",
   "metadata": {},
   "outputs": [],
   "source": [
    "# Impute missing values. Note that this can be problematic, due to data leakage. Below, we show the more 'correct' way to impute the data.\n",
    "# One alternative for imputation is to just remove the rows with missing data.\n",
    "from sklearn.impute import SimpleImputer\n",
    "imp_mean = SimpleImputer(missing_values=np.nan, strategy='mean')\n",
    "imp_mean.fit(X)\n",
    "X = imp_mean.transform(X)\n"
   ]
  },
  {
   "cell_type": "code",
   "execution_count": 5,
   "id": "57d9319a-ee6a-4f2b-ac62-93a6fe4a9472",
   "metadata": {},
   "outputs": [],
   "source": [
    "# do cross-fold validation\n",
    "from sklearn.model_selection import cross_validate\n",
    "model = DecisionTreeClassifier()\n",
    "scoring = {'acc':'accuracy', 'sens':'recall_macro'}\n",
    "scores = cross_validate(model, X, y, cv=5, scoring = scoring, return_train_score = True) # this gives the accuracy"
   ]
  },
  {
   "cell_type": "code",
   "execution_count": 6,
   "id": "ef78c665",
   "metadata": {},
   "outputs": [
    {
     "name": "stdout",
     "output_type": "stream",
     "text": [
      "[0.89285714 0.92857143 0.95714286 0.95714286 0.94964029]\n"
     ]
    }
   ],
   "source": [
    "print(scores['test_acc'])"
   ]
  },
  {
   "cell_type": "code",
   "execution_count": 7,
   "id": "47b4f5e2",
   "metadata": {},
   "outputs": [
    {
     "name": "stdout",
     "output_type": "stream",
     "text": [
      "[0.86367754 0.94067029 0.95244565 0.95290424 0.92708333]\n"
     ]
    }
   ],
   "source": [
    "print(scores['test_sens'])"
   ]
  },
  {
   "cell_type": "code",
   "execution_count": 8,
   "id": "f7131db7",
   "metadata": {},
   "outputs": [
    {
     "name": "stdout",
     "output_type": "stream",
     "text": [
      "[0.93571429 0.93571429 0.97142857 0.97857143 0.98561151]\n",
      "[0.92119565 0.94112319 0.9682971  0.96938776 0.98408883]\n"
     ]
    }
   ],
   "source": [
    "# do cross-fold validation for random forest\n",
    "from sklearn.tree import DecisionTreeClassifier\n",
    "from sklearn.model_selection import cross_validate\n",
    "model1 = RandomForestClassifier()\n",
    "scores1 = cross_validate(model1, X, y, cv=5, scoring = scoring, return_train_score = True) # this gives the accuracy\n",
    "print(scores1['test_acc'])\n",
    "print(scores1['test_sens'])\n",
    "\n",
    "# should see that random forest does a little bit better than a decision tree, logistic regression and perceptron"
   ]
  },
  {
   "cell_type": "code",
   "execution_count": 9,
   "id": "e310653e",
   "metadata": {},
   "outputs": [
    {
     "data": {
      "text/plain": [
       "0.9614080164439877"
      ]
     },
     "execution_count": 9,
     "metadata": {},
     "output_type": "execute_result"
    }
   ],
   "source": [
    "scores1['test_acc'].mean()"
   ]
  },
  {
   "cell_type": "code",
   "execution_count": 10,
   "id": "51cd11b9",
   "metadata": {},
   "outputs": [
    {
     "name": "stdout",
     "output_type": "stream",
     "text": [
      "[0.9298561151079137, 0.9213874614594039, 0.9485200411099692, 0.9470811921891059, 0.9614080164439877, 0.9571120246659814, 0.9471120246659815, 0.9527954779033916, 0.955693730729702, 0.9485097636176774, 0.9528365878725591, 0.9599691675231243, 0.9599897225077083, 0.9628263103802672, 0.9642548818088386, 0.9599897225077083, 0.9571120246659814, 0.9499794450154162, 0.9614080164439877]\n"
     ]
    }
   ],
   "source": [
    "# tinker with n_estimators\n",
    "estimators = np.arange(1,20,1)\n",
    "\n",
    "total_scores = [];\n",
    "for i, est in enumerate(estimators):\n",
    "    model1 = RandomForestClassifier(n_estimators = est)\n",
    "    scores1 = cross_validate(model1, X, y, cv=5, scoring = scoring, return_train_score = True) # this gives the accuracy\n",
    "    total_scores.append(scores1['test_acc'].mean())\n",
    "print(total_scores)"
   ]
  },
  {
   "cell_type": "code",
   "execution_count": 11,
   "id": "941934da",
   "metadata": {},
   "outputs": [
    {
     "data": {
      "text/plain": [
       "[<matplotlib.lines.Line2D at 0x7facd5620070>]"
      ]
     },
     "execution_count": 11,
     "metadata": {},
     "output_type": "execute_result"
    },
    {
     "data": {
      "image/png": "[encoded data removed]",
      "text/plain": [
       "<Figure size 640x480 with 1 Axes>"
      ]
     },
     "metadata": {},
     "output_type": "display_data"
    }
   ],
   "source": [
    "plt.plot(estimators, total_scores)"
   ]
  },
  {
   "cell_type": "code",
   "execution_count": 12,
   "id": "4afd9d14",
   "metadata": {},
   "outputs": [
    {
     "name": "stdout",
     "output_type": "stream",
     "text": [
      "[0.9671223021582733, 0.9628365878725591, 0.9614080164439877, 0.9585508735868448, 0.9556731757451182, 0.9557040082219939, 0.9599794450154162, 0.9556834532374101, 0.9571120246659814]\n"
     ]
    }
   ],
   "source": [
    "# tinker with max_features\n",
    "\n",
    "n_features = np.arange(1,10,1) # try 1 to 10 features for each tree\n",
    "\n",
    "total_scores = [];\n",
    "for i, est in enumerate(n_features):\n",
    "    model1 = RandomForestClassifier(max_features = est)\n",
    "    scores1 = cross_validate(model1, X, y, cv=5, scoring = scoring, return_train_score = True) # this gives the accuracy\n",
    "    total_scores.append(scores1['test_acc'].mean())\n",
    "print(total_scores)"
   ]
  },
  {
   "cell_type": "code",
   "execution_count": 49,
   "id": "e5c2952b",
   "metadata": {},
   "outputs": [
    {
     "data": {
      "text/plain": [
       "[<matplotlib.lines.Line2D at 0x7fd199416b80>]"
      ]
     },
     "execution_count": 49,
     "metadata": {},
     "output_type": "execute_result"
    },
    {
     "data": {
      "image/png": "[encoded data removed]",
      "text/plain": [
       "<Figure size 640x480 with 1 Axes>"
      ]
     },
     "metadata": {},
     "output_type": "display_data"
    }
   ],
   "source": [
    "plt.plot(n_features, total_scores)"
   ]
  },
  {
   "cell_type": "markdown",
   "id": "d571d516",
   "metadata": {},
   "source": [
    "# my code"
   ]
  },
  {
   "cell_type": "code",
   "execution_count": 13,
   "id": "ac81401c",
   "metadata": {},
   "outputs": [
    {
     "name": "stdout",
     "output_type": "stream",
     "text": [
      "Perceptron Accuracy: 0.9614080164439877\n",
      "Perceptron Sensitivity: 0.9577298477919596\n",
      "Logistic Regression Accuracy: 0.9628263103802672\n",
      "Logistic Regression Sensitivity: 0.956878512274475\n"
     ]
    }
   ],
   "source": [
    "from sklearn.linear_model import Perceptron, LogisticRegression\n",
    "from sklearn.model_selection import cross_validate\n",
    "\n",
    "# Configure scoring\n",
    "scoring = {'acc': 'accuracy', 'sens': 'recall_macro'}\n",
    "\n",
    "# Train and evaluate Perceptron\n",
    "perceptron_model = Perceptron()\n",
    "perceptron_scores = cross_validate(perceptron_model, X, y, cv=5, scoring=scoring, return_train_score=True)\n",
    "\n",
    "# Train and evaluate Logistic Regression\n",
    "logistic_model = LogisticRegression(max_iter=1000) # Increase max_iter if needed for convergence\n",
    "logistic_scores = cross_validate(logistic_model, X, y, cv=5, scoring=scoring, return_train_score=True)\n",
    "\n",
    "# Print results\n",
    "print(\"Perceptron Accuracy:\", perceptron_scores['test_acc'].mean())\n",
    "print(\"Perceptron Sensitivity:\", perceptron_scores['test_sens'].mean())\n",
    "\n",
    "print(\"Logistic Regression Accuracy:\", logistic_scores['test_acc'].mean())\n",
    "print(\"Logistic Regression Sensitivity:\", logistic_scores['test_sens'].mean())\n"
   ]
  },
  {
   "cell_type": "code",
   "execution_count": null,
   "id": "665b0f8c",
   "metadata": {},
   "outputs": [],
   "source": []
  }
 ],
 "metadata": {
  "kernelspec": {
   "display_name": "Python 3 (ipykernel)",
   "language": "python",
   "name": "python3"
  },
  "language_info": {
   "codemirror_mode": {
    "name": "ipython",
    "version": 3
   },
   "file_extension": ".py",
   "mimetype": "text/x-python",
   "name": "python",
   "nbconvert_exporter": "python",
   "pygments_lexer": "ipython3",
   "version": "3.10.9"
  }
 },
 "nbformat": 4,
 "nbformat_minor": 5
}
