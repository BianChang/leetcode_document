{
 "cells": [
  {
   "cell_type": "markdown",
   "id": "7f98a284",
   "metadata": {},
   "source": [
    "# Supervised learning lab day 1\n",
    "\n",
    "\n",
    "## Exercise 1:\n",
    "\n",
    "Adapt the code from the **Day1-Block2-Notebook1** to train a logistic regression and a perceptron classifier on the new data set below.\n",
    "\n",
    "This data set contains person-level data from a digitized image of a fine needle aspirate of a breast mass for people with suspected breast cancer. Researchers then measured 11 features of the image. The aim is to predict patient diagnosis. Features of the dataset are:\n",
    "\n",
    "   -- -----------------------------------------\n",
    "   1. Sample code number            id number\n",
    "   2. Clump Thickness               1 - 10\n",
    "   3. Uniformity of Cell Size       1 - 10\n",
    "   4. Uniformity of Cell Shape      1 - 10\n",
    "   5. Marginal Adhesion             1 - 10\n",
    "   6. Single Epithelial Cell Size   1 - 10\n",
    "   7. Bare Nuclei                   1 - 10\n",
    "   8. Bland Chromatin               1 - 10\n",
    "   9. Normal Nucleoli               1 - 10\n",
    "  10. Mitoses                       1 - 10\n",
    "  11. Class:                        (2 for benign, 4 for malignant)\n",
    "\n",
    "More details of the dataset are available at: https://archive-beta.ics.uci.edu/ml/datasets/breast+cancer+wisconsin+diagnostic\n",
    "\n",
    "**Questions (add your answers below each question):**\n",
    "\n",
    "2.1 How many classes are you trying to predict?\n",
    "\n",
    "2.2 Using a train/test split of 70/30, calculate the mean and standard deviation of each feature that will be used in the standard scalar?\n",
    "\n",
    "2.3 What is the sensitivity and specificity of your classifiers?\n",
    "\n",
    "2.4 [optional] For the logistic regression, vary the decision threshold to generate an ROC curve. \n",
    "- What is the sensitivity when the threshold is 0? \n",
    "- What is the sensitivity when the threshold is 1?\n",
    "- If we want our classifier, a priori, to have a sensitivity of 95%, what is the corresponding sensitivity?"
   ]
  },
  {
   "cell_type": "markdown",
   "id": "58a17f6b",
   "metadata": {},
   "source": [
    "# Data Import \n",
    "\n",
    "The data for this exercise is imported below. "
   ]
  },
  {
   "cell_type": "code",
   "execution_count": null,
   "id": "3ee5f084",
   "metadata": {},
   "outputs": [],
   "source": [
    "# data import for exercise 2\n",
    "import matplotlib.pyplot as plt\n",
    "import numpy as np\n",
    "import pandas as pd\n",
    "\n",
    "data = pd.read_csv('breast-cancer-wisconsin.csv', header = None, na_values='?')\n",
    "data.head()"
   ]
  },
  {
   "cell_type": "code",
   "execution_count": null,
   "id": "5f4fe0a5",
   "metadata": {},
   "outputs": [],
   "source": [
    "# separate the features from the labels\n",
    "y = data.iloc[:,10]\n",
    "X = data.iloc[:,1:10]\n",
    "X.head()"
   ]
  },
  {
   "cell_type": "markdown",
   "id": "886bf9b8",
   "metadata": {},
   "source": [
    "\n",
    "## Exercise 2 (optional):\n",
    "By adapting the code from **Day1-Block2-Notebook2** consider the following:\n",
    "\n",
    "1.1 Generate noisy, simulated data for a model where an input  𝑇  gives output  𝑍  via the relationship,  𝑍=𝑐sin(𝑇+𝑑) . (use c=0.5 and d=-0.25.). **Plot *Z* vs *T* **\n",
    "\n",
    "\n",
    "1.2 Next, using your simulated data, write a stochastic gradient descent procedure to learn the parameters  (𝑐,𝑑)  from the simulated values of  (𝑇,𝑍) and **Plot the training loss over multiple steps**"
   ]
  },
  {
   "cell_type": "code",
   "execution_count": null,
   "id": "8f85334d",
   "metadata": {},
   "outputs": [],
   "source": []
  }
 ],
 "metadata": {
  "kernelspec": {
   "display_name": "Python 3 (ipykernel)",
   "language": "python",
   "name": "python3"
  },
  "language_info": {
   "codemirror_mode": {
    "name": "ipython",
    "version": 3
   },
   "file_extension": ".py",
   "mimetype": "text/x-python",
   "name": "python",
   "nbconvert_exporter": "python",
   "pygments_lexer": "ipython3",
   "version": "3.10.9"
  }
 },
 "nbformat": 4,
 "nbformat_minor": 5
}
