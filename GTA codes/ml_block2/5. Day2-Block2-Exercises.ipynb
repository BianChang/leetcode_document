{
 "cells": [
  {
   "cell_type": "markdown",
   "id": "117ee579",
   "metadata": {},
   "source": [
    "# Supervised Learning Lab Day 2\n",
    "\n",
    "Adapt the code from the **Day2-Block2-Notebook3** to train a decision tree and a random forest classifier on the breast cancer data set from yesterday.\n",
    "\n",
    "As well as training additional models, today you will invetigate the impact of changing model hyperparameters and how to perform ROC analysis using SKlearn\n",
    "\n",
    "**Tasks (add your answers below each question):**\n",
    "\n",
    "2.1 Using a 5-fold cross validation, train a decision tree and random forest classifier and report the model accuracy and sensitivity \n",
    "\n",
    "2.2 How does the performance of these models compare to the Perceptron and Logistic regression? Is this what you would expect?\n",
    "\n",
    "2.3 For the random forest model, try changing the n_estimators and max_features, one at a time. By training the model multiple times (using a FOR loop), plot the accuracy as you change these parameters.\n",
    "\n",
    "2.4 If you have not already done so, complete 2.4 from yesterday"
   ]
  },
  {
   "cell_type": "code",
   "execution_count": null,
   "id": "462ca3cc",
   "metadata": {},
   "outputs": [],
   "source": [
    "# models that will be used in this exercise\n",
    "from sklearn.tree import DecisionTreeClassifier\n",
    "from sklearn.ensemble import RandomForestClassifier\n"
   ]
  },
  {
   "cell_type": "code",
   "execution_count": null,
   "id": "8e6586d0",
   "metadata": {},
   "outputs": [],
   "source": []
  }
 ],
 "metadata": {
  "kernelspec": {
   "display_name": "Python 3 (ipykernel)",
   "language": "python",
   "name": "python3"
  },
  "language_info": {
   "codemirror_mode": {
    "name": "ipython",
    "version": 3
   },
   "file_extension": ".py",
   "mimetype": "text/x-python",
   "name": "python",
   "nbconvert_exporter": "python",
   "pygments_lexer": "ipython3",
   "version": "3.10.4"
  }
 },
 "nbformat": 4,
 "nbformat_minor": 5
}
